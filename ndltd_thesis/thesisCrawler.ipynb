{
 "cells": [
  {
   "cell_type": "code",
   "execution_count": null,
   "id": "384e4c20",
   "metadata": {},
   "outputs": [],
   "source": [
    "'''\n",
    "論文爬蟲目標\n",
    "https://ndltd.ncl.edu.tw/cgi-bin/gs32/gsweb.cgi/login?o=dwebmge\n",
    "'''"
   ]
  },
  {
   "cell_type": "code",
   "execution_count": 4,
   "id": "779268bc",
   "metadata": {},
   "outputs": [
    {
     "name": "stdout",
     "output_type": "stream",
     "text": [
      "\n"
     ]
    },
    {
     "name": "stderr",
     "output_type": "stream",
     "text": [
      "[WDM] - ====== WebDriver manager ======\n",
      "[WDM] - Current google-chrome version is 103.0.5060\n",
      "[WDM] - Get LATEST chromedriver version for 103.0.5060 google-chrome\n",
      "[WDM] - Driver [C:\\Users\\John1\\.wdm\\drivers\\chromedriver\\win32\\103.0.5060.53\\chromedriver.exe] found in cache\n"
     ]
    }
   ],
   "source": [
    "# 操作 browser 的 API\n",
    "from selenium import webdriver\n",
    "from selenium.webdriver.chrome.service import Service\n",
    "from webdriver_manager.chrome import ChromeDriverManager\n",
    "\n",
    "# 處理逾時例外的工具\n",
    "# from selenium.common.exceptions import TimeoutException\n",
    "\n",
    "# 面對動態網頁，等待某個元素出現的工具，通常與 exptected_conditions 搭配\n",
    "# from selenium.webdriver.support.ui import WebDriverWait\n",
    "\n",
    "# 搭配 WebDriverWait 使用，對元素狀態的一種期待條件，若條件發生，則等待結束，往下一行執行\n",
    "# from selenium.webdriver.support import expected_conditions as EC\n",
    "\n",
    "# 期待元素出現要透過什麼方式指定，通常與 EC、WebDriverWait 一起使用\n",
    "from selenium.webdriver.common.by import By\n",
    "\n",
    "# 強制等待 (執行期間休息一下)\n",
    "from time import sleep\n",
    "\n",
    "# 整理 json 使用的工具\n",
    "import json\n",
    "\n",
    "# 執行 command 的時候用的\n",
    "import os\n",
    "\n",
    "# 子處理程序，用來取代 os.system 的功能\n",
    "# import subprocess\n",
    "\n",
    "# 正規表達式\n",
    "import re\n",
    "\n",
    "# 啟動瀏覽器工具的選項\n",
    "my_options = webdriver.ChromeOptions()\n",
    "# my_options.add_argument(\"--headless\")                # 不開啟實體瀏覽器背景執行\n",
    "my_options.add_argument(\"--start-maximized\")           # 最大化視窗\n",
    "my_options.add_argument(\"--incognito\")                 # 開啟無痕模式\n",
    "my_options.add_argument(\"--disable-popup-blocking\")    # 禁用彈出攔截\n",
    "my_options.add_argument(\"--disable-notifications\")     # 取消通知\n",
    "my_options.add_argument(\"--lang=zh-TW\")                # 設定為正體中文\n",
    "\n",
    "# 使用 Chrome 的 WebDriver\n",
    "driver = webdriver.Chrome(\n",
    "    options = my_options,\n",
    "    service = Service(ChromeDriverManager().install())\n",
    ")\n",
    "\n",
    "# 建立儲存圖片、影片的資料夾\n",
    "folderPath = 'Thesis'\n",
    "if not os.path.exists(folderPath):\n",
    "    os.makedirs(folderPath)\n",
    "\n",
    "# 放置爬取的資料\n",
    "listData = []"
   ]
  },
  {
   "cell_type": "code",
   "execution_count": 5,
   "id": "741f4561",
   "metadata": {
    "tags": []
   },
   "outputs": [],
   "source": [
    "def visit():\n",
    "    driver.get('https://ndltd.ncl.edu.tw/cgi-bin/gs32/gsweb.cgi/login?o=dwebmge')\n",
    "    \n",
    "def search():\n",
    "    SearchKeys = input('請輸入查詢關鍵字:' )\n",
    "    txtInput = driver.find_element(By.CSS_SELECTOR, 'input.inputbox')\n",
    "    txtInput.send_keys(SearchKeys)\n",
    "    sleep(2)\n",
    "    kwBox = driver.find_element(By.CSS_SELECTOR, 'input[value=\"kw\"]')\n",
    "    kwBox.click()\n",
    "    sleep(2)\n",
    "    abBox = driver.find_element(By.CSS_SELECTOR, 'input[value=\"ab\"]')\n",
    "    abBox.click()\n",
    "    sleep(2)\n",
    "    txtInput.submit()\n",
    "    sleep(3)\n",
    "    \n",
    "def selectTheses():\n",
    "    theses = driver.find_elements(By.CSS_SELECTOR, 'td.tdfmt1-content')\n",
    "    \n",
    "    for i in range(10):\n",
    "        reference = theses[i].find_element(By.XPATH, '..')\n",
    "        resultNum = reference.find_element(By.CSS_SELECTOR, 'td.tdfmt1-second').text\n",
    "        linkElement = theses[i].find_element(By.CSS_SELECTOR, 'a.slink')\n",
    "        titleTag = linkElement.find_element(By.CSS_SELECTOR, 'span.etd_d')\n",
    "        thesisTitle = titleTag.get_attribute('innerText')\n",
    "        tempLink = linkElement.get_attribute('href')\n",
    "        \n",
    "        # 開啟新分頁\n",
    "        driver.execute_script(\"window.open('');\")\n",
    "        # 切換到新分頁\n",
    "        driver.switch_to.window(driver.window_handles[1])\n",
    "        driver.get(tempLink)\n",
    "        sleep(3)\n",
    "        \n",
    "        # 取得論文永久連結、說明\n",
    "        permaLink = driver.find_elements(By.CSS_SELECTOR, 'input#fe_text1')[0].get_attribute(\"value\")\n",
    "        description = driver.find_elements(By.CSS_SELECTOR, 'meta[name=\"description\"]')[0].get_attribute(\"content\")\n",
    "            \n",
    "        # 關掉新分頁\n",
    "        driver.close()\n",
    "        # 回到原分頁\n",
    "        driver.switch_to.window(driver.window_handles[0])\n",
    "        sleep(3)    \n",
    "\n",
    "        listData.append({\n",
    "            'resulNum':resultNum,\n",
    "            'title':thesisTitle,\n",
    "            'link':permaLink,\n",
    "            'description':description\n",
    "        })\n",
    "        \n",
    "def saveJson():\n",
    "    with open(f\"{folderPath}/thesis.json\", \"w\", encoding=\"utf-8\" ) as file:\n",
    "        file.write(json.dumps(listData, ensure_ascii=False))       \n",
    "        \n",
    "def close():\n",
    "    driver.quit()"
   ]
  },
  {
   "cell_type": "code",
   "execution_count": null,
   "id": "f9e6d62c",
   "metadata": {},
   "outputs": [],
   "source": [
    "# 論文系統翻頁用 - 測試翻頁功能\n",
    "def turnPage():\n",
    "    regexTotalPage = r'/([\\d])'\n",
    "    currentPage = driver.find_element(By.CSS_SELECTOR, 'input[name=\"jmpage\"]')\n",
    "    currentPageValue = int(currentPage.get_attribute('value'))\n",
    "    totalPageTag = currentPage.find_element(By.XPATH, '../..') # 利用currentPage的位置往回選標籤 (2層父標籤)\n",
    "    totalPage = int(re.search(regexTotalPage, totalPageTag.text)[1]) # 用regex從totalPageTag裡取出數字強制轉換為int\n",
    "    while currentPageValue < totalPage:\n",
    "        currentPage = driver.find_element(By.CSS_SELECTOR, 'input[name=\"jmpage\"]') # 重新選擇頁碼位置\n",
    "        currentPageValue = int(currentPage.get_attribute('value')) # 取出頁碼數字\n",
    "        print(f'目前在第 {currentPageValue} 頁') # 印出頁碼數字確認\n",
    "        currentPage.clear() # 確認頁碼後清空欄\n",
    "        sleep(1)\n",
    "        currentPage.send_keys(currentPageValue+1) # 輸入下一個要去的頁面\n",
    "        sleep(2)\n",
    "        button = driver.find_element(By.CSS_SELECTOR, 'input[name=\"jumpfmt1page\"]') # 點擊換頁按鈕\n",
    "        button.click()\n",
    "        sleep(3)\n",
    "    print(f'已翻到最後一頁: {currentPageValue}')"
   ]
  },
  {
   "cell_type": "code",
   "execution_count": null,
   "id": "0b49ca4b-04fd-4585-b88c-c512fc29753d",
   "metadata": {},
   "outputs": [],
   "source": [
    "# 論文系統爬蟲翻頁用\n",
    "def turnPage():\n",
    "    regexTotalPage = r'/([\\d])'\n",
    "    currentPageTag = driver.find_element(By.CSS_SELECTOR, 'input[name=\"jmpage\"]') # 選擇目前頁碼的input欄位\n",
    "    currentPage = int(currentPageTag.get_attribute('value')) # 從欄位取得目前頁碼\n",
    "    totalPageTag = currentPageTag.find_element(By.XPATH, '../..') # 利用currentPageTag的位置往回選總共頁數在的標籤 (回逤2層)\n",
    "    totalPage = int(re.search(regexTotalPage, totalPageTag.text)[1]) # 從totalPageTag取出總共頁數\n",
    "    if currentPage == totalPage: # 如果目前頁碼 = 總共頁數代表已爬到最後一頁，此時跳脫\n",
    "        return False\n",
    "    else:\n",
    "        currentPageTag.clear() # 清空欄輸入欄以利再次輸入\n",
    "        sleep(1)\n",
    "        currentPageTag.send_keys(currentPage+1) # 輸入下一個要去的頁面\n",
    "        sleep(2)\n",
    "        button = driver.find_element(By.CSS_SELECTOR, 'input[name=\"jumpfmt1page\"]') # 點擊換頁按鈕\n",
    "        button.click()\n",
    "        sleep(3)\n",
    "        return True"
   ]
  },
  {
   "cell_type": "code",
   "execution_count": null,
   "id": "60951238",
   "metadata": {},
   "outputs": [],
   "source": [
    "# 選擇論文標題、連結 - 全部選擇\n",
    "def selectTheses():\n",
    "    theses = driver.find_elements(By.CSS_SELECTOR, 'td.tdfmt1-content')\n",
    "    \n",
    "    for thesis in theses:\n",
    "        a = thesis.find_element(By.CSS_SELECTOR, 'a.slink')\n",
    "        titleTag = a.find_element(By.CSS_SELECTOR, 'span.etd_d')\n",
    "        thesisTitle = titleTag.get_attribute('innerText')\n",
    "        tempLink = a.get_attribute('href')\n",
    "        \n",
    "        # 開啟新分頁\n",
    "        driver.execute_script(\"window.open('');\")\n",
    "        # 切換到新分頁\n",
    "        driver.switch_to.window(driver.window_handles[1])\n",
    "        driver.get(tempLink)\n",
    "        sleep(3)\n",
    "        \n",
    "        # 取得論文永久連結\n",
    "        permaLink = driver.find_elements(By.CSS_SELECTOR, 'input#fe_text1')[0].get_attribute(\"value\")\n",
    "        description = driver.find_elements(By.CSS_SELECTOR, 'meta[name=\"description\"]')[0].get_attribute(\"content\")\n",
    "            \n",
    "        # 關掉新分頁\n",
    "        driver.close()\n",
    "        # 回到原分頁\n",
    "        driver.switch_to.window(driver.window_handles[0])\n",
    "        sleep(3)    \n",
    "\n",
    "        listData.append({\n",
    "            'title':thesisTitle,\n",
    "            'link':permaLink,\n",
    "            'description':description\n",
    "        })"
   ]
  },
  {
   "cell_type": "code",
   "execution_count": 15,
   "id": "2b146953",
   "metadata": {},
   "outputs": [
    {
     "name": "stdin",
     "output_type": "stream",
     "text": [
      "請輸入查詢關鍵字: 大數據\n"
     ]
    }
   ],
   "source": [
    "# 主程式 - 只爬第一頁\n",
    "if __name__ == \"__main__\":\n",
    "    visit()\n",
    "    search()\n",
    "    selectTheses()\n",
    "    saveJson()"
   ]
  },
  {
   "cell_type": "code",
   "execution_count": null,
   "id": "26f57c90",
   "metadata": {},
   "outputs": [],
   "source": [
    "# 主程式 - 測試翻頁功能用\n",
    "if __name__ == \"__main__\":\n",
    "    visit()\n",
    "    search()\n",
    "    turnPage()"
   ]
  },
  {
   "cell_type": "code",
   "execution_count": null,
   "id": "ee557f80-4995-4a1f-a00f-fb8acb3b829e",
   "metadata": {},
   "outputs": [],
   "source": [
    "# 主程式 - 加上翻頁爬蟲功能\n",
    "if __name__ == \"__main__\":\n",
    "    hasNext = True\n",
    "    visit()\n",
    "    search()\n",
    "    while hasNext == True:\n",
    "        selectTheses()\n",
    "        hasNext = turnPage()\n",
    "    saveJson()"
   ]
  },
  {
   "cell_type": "code",
   "execution_count": 6,
   "id": "60b4b65a-4806-4c4b-a410-e531592dfa8f",
   "metadata": {},
   "outputs": [
    {
     "name": "stdin",
     "output_type": "stream",
     "text": [
      "請輸入查詢關鍵字: 天氣 發電\n"
     ]
    }
   ],
   "source": [
    "# 主程式 - 測試搜尋功能用\n",
    "if __name__ == \"__main__\":\n",
    "    visit()\n",
    "    search()"
   ]
  },
  {
   "cell_type": "code",
   "execution_count": 7,
   "id": "04d3c7f7",
   "metadata": {},
   "outputs": [],
   "source": [
    "close()"
   ]
  },
  {
   "cell_type": "markdown",
   "id": "12f66544",
   "metadata": {},
   "source": [
    "Selenium在新tab中開啟網頁/關閉網頁:\n",
    "https://justcode.ikeepstudying.com/2019/09/python-selenium%E5%A4%9A%E7%AA%97%E5%8F%A3%E4%B9%8B%E5%89%8D%E7%9A%84%E5%88%87%E6%8D%A2-webdriver%E7%AA%97%E5%8F%A3%E5%88%87%E6%8D%A2/\n",
    "\n",
    "https://www.lambdatest.com/blog/python-selenium-switch-tabs/\n",
    "\n",
    "從文具區塊copy文字:\n",
    "https://stackoverflow.com/questions/40980559/copy-text-area-using-selenium-python\n",
    "\n",
    "從子元素找到父元素:\n",
    "https://www.tutorialspoint.com/how-to-find-parent-elements-by-python-webdriver\n",
    "\n",
    "透過selenium清空文字欄位:\n",
    "https://www.tutorialspoint.com/how-to-clear-the-text-entered-in-selenium-with-python"
   ]
  }
 ],
 "metadata": {
  "kernelspec": {
   "display_name": "Python 3 (ipykernel)",
   "language": "python",
   "name": "python3"
  },
  "language_info": {
   "codemirror_mode": {
    "name": "ipython",
    "version": 3
   },
   "file_extension": ".py",
   "mimetype": "text/x-python",
   "name": "python",
   "nbconvert_exporter": "python",
   "pygments_lexer": "ipython3",
   "version": "3.10.4"
  }
 },
 "nbformat": 4,
 "nbformat_minor": 5
}
